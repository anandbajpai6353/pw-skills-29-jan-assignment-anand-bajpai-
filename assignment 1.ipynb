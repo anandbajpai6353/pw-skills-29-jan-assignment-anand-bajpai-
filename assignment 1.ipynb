{
 "cells": [
  {
   "cell_type": "markdown",
   "id": "1c0f4c9e-7dea-4f8d-92cd-721c0e46c926",
   "metadata": {},
   "source": [
    "Q1\n",
    "Who developed python programming language?"
   ]
  },
  {
   "cell_type": "markdown",
   "id": "d230f198-4d33-4a44-b235-5a9eb0abc013",
   "metadata": {},
   "source": [
    "A1 \n",
    "Python programming language was developed by Guido van Rossum. He started working on Python in the late 1980s and released the first version, Python 0.9.0, in February 1991. Guido van Rossum continued to lead the development of Python until he stepped down as the language's Benevolent Dictator For Life (BDFL) in July 2018. Since then, Python development has been carried out by a community of volunteers, guided by the Python Software Foundation (PSF)."
   ]
  },
  {
   "cell_type": "raw",
   "id": "7a33b911-1749-4b16-9ded-1b0c12c6b615",
   "metadata": {},
   "source": []
  },
  {
   "cell_type": "markdown",
   "id": "0b3b8bab-4f64-4016-ab43-aed2b4212915",
   "metadata": {},
   "source": [
    "Q2\n",
    "Which type of programming does python support?\n"
   ]
  },
  {
   "cell_type": "markdown",
   "id": "8b458e30-302b-40f8-a2b2-e14b84507feb",
   "metadata": {},
   "source": [
    "A2\n",
    "Python supports multiple programming paradigms, making it a versatile language. The main programming paradigms supported by Python include:\n",
    "\n",
    "Procedural Programming: Python allows you to write programs using procedural programming techniques, which involve organizing code into procedures or functions that perform specific tasks.\n",
    "\n",
    "Object-Oriented Programming (OOP): Python has robust support for object-oriented programming. It allows you to define classes and objects, encapsulate data and methods within objects, and leverage concepts such as inheritance, polymorphism, and encapsulation.\n",
    "\n",
    "Functional Programming: Python supports functional programming concepts. It allows you to define and use higher-order functions, use lambda expressions, and work with immutable data structures.\n",
    "\n",
    "Imperative Programming: Python supports imperative programming, where you write code that specifies a series of steps or instructions to be executed.\n",
    "\n",
    "Event-driven Programming: Python can be used to develop event-driven applications, where program flow is determined by events such as user actions or messages from other software components.\n",
    "\n",
    "Concurrent Programming: Python provides modules and libraries for concurrent programming. You can use threads, multiprocessing, or asynchronous programming techniques to achieve concurrency.\n",
    "\n",
    "Python's flexibility and support for multiple programming paradigms contribute to its popularity and widespread use in various domains and applications.\n"
   ]
  },
  {
   "cell_type": "raw",
   "id": "24e3e407-cb47-4cd2-85d8-7662e6f6291a",
   "metadata": {},
   "source": []
  },
  {
   "cell_type": "markdown",
   "id": "81571773-6c55-411a-b324-5641844465a9",
   "metadata": {},
   "source": [
    "Q3\n",
    "Is python case sensitive when dealing with identifiers?"
   ]
  },
  {
   "cell_type": "markdown",
   "id": "2139a137-87f4-43a7-8298-de7d1890e467",
   "metadata": {},
   "source": [
    "A3\n",
    "Yes, Python is case sensitive when dealing with identifiers. This means that variable names, function names, class names, and other identifiers in Python are distinguished by their case.\n",
    "\n",
    "For example, the variable names \"myVariable,\" \"myvariable,\" and \"myvariable\" would be considered as three separate variables in Python. Similarly, the function names \"myFunction\" and \"myfunction\" would be treated as distinct functions.\n",
    "\n",
    "It is important to be consistent with the casing of identifiers to avoid any confusion or errors in your Python code."
   ]
  },
  {
   "cell_type": "raw",
   "id": "dc7ad415-c057-4b7f-8af8-6038ca226cb3",
   "metadata": {},
   "source": []
  },
  {
   "cell_type": "markdown",
   "id": "c055e625-bef8-4621-bfde-f47ad768cd5f",
   "metadata": {},
   "source": [
    "Q4\n",
    "What is correct extension of the python file?\n"
   ]
  },
  {
   "cell_type": "markdown",
   "id": "02ba3227-80a7-426e-8c0c-826253dfbdcb",
   "metadata": {},
   "source": [
    "A4\n",
    "The correct extension for Python files is \".py\". When you save a Python script or program, it is recommended to use a file name with the \".py\" extension.\n",
    "\n",
    "For example, if you have a Python script named \"my_script.py,\" the \".py\" extension indicates that the file contains Python code.\n",
    "\n",
    "Using the correct \".py\" extension helps in identifying Python files and allows text editors, integrated development environments (IDEs), and the Python interpreter to recognize and handle the file appropriately."
   ]
  },
  {
   "cell_type": "raw",
   "id": "105c6353-99ae-461b-a81d-fc7da64da07f",
   "metadata": {},
   "source": []
  },
  {
   "cell_type": "markdown",
   "id": "fb7fd7c8-73c8-48f0-9577-c4a2529dc341",
   "metadata": {},
   "source": [
    "Q5\n",
    "Is python code compiled or interpreted?\n"
   ]
  },
  {
   "cell_type": "markdown",
   "id": "038383e5-c743-4a5d-8334-5bfec3078494",
   "metadata": {},
   "source": [
    "A5\n",
    "Python code is typically interpreted rather than compiled. When you run a Python program, the Python interpreter reads and executes the code line by line, translating it into machine-readable instructions on the fly.\n",
    "\n",
    "However, it's important to note that Python uses a hybrid approach. Python source code is first compiled into bytecode, which is a low-level, platform-independent representation of the code. This bytecode is then executed by the Python interpreter. This compilation process occurs automatically and behind the scenes, without the need for explicit compilation steps.\n",
    "\n",
    "This combination of compilation to bytecode and subsequent interpretation gives Python its flexibility and dynamic nature. It allows for interactive development, where code can be executed and modified on the fly, as well as the ability to run Python code on different platforms without the need for recompilation.\n",
    "\n",
    "There are also tools, such as PyInstaller and cx_Freeze, that can package Python programs into standalone executable files. These tools include the Python interpreter and the bytecode of the program, effectively creating a bundled executable. This gives the appearance of a compiled program, but the underlying execution is still interpreted."
   ]
  },
  {
   "cell_type": "raw",
   "id": "ff667711-229b-44bb-9921-4d537e9a43c8",
   "metadata": {},
   "source": []
  },
  {
   "cell_type": "markdown",
   "id": "d94d6365-3a57-46bf-9bb5-22a11595c39b",
   "metadata": {},
   "source": [
    "Q6 \n",
    "Name a few blocks of code used to define in python language."
   ]
  },
  {
   "cell_type": "markdown",
   "id": "41956206-9dea-4f68-a3c0-d2d4393462bb",
   "metadata": {},
   "source": [
    "A6\n",
    "In Python, blocks of code are defined using indentation rather than explicit block delimiters like braces ({}). Here are a names of commonly used blocks of code in Python:\n",
    "1. Function Definition.\n",
    "2. Conditional Statements (if-elif-else).\n",
    "3. Looping Statements (for and while loops).\n",
    "4. Exception Handling (try-except blocks).\n"
   ]
  },
  {
   "cell_type": "raw",
   "id": "9c748de0-55ff-4a94-9335-e476dcff3d6e",
   "metadata": {},
   "source": []
  },
  {
   "cell_type": "markdown",
   "id": "8844feef-c652-4414-8108-a6a6e03a08df",
   "metadata": {},
   "source": [
    "Q7\n",
    "State a character used to give single-line comments in python."
   ]
  },
  {
   "cell_type": "markdown",
   "id": "e8ffd9f1-dd5f-4de4-88f7-7f16d6bd00ae",
   "metadata": {},
   "source": [
    "A7\n",
    "In Python, the pound sign (#) is used to indicate a single-line comment. Any text following the # symbol on the same line is considered a comment and is ignored by the Python interpreter.\n",
    "\n",
    "Here's an example of a single-line comment in Python:\n",
    "\n",
    "# This is a single-line comment\n",
    "\n",
    "You can use single-line comments to provide explanations, document your code, or temporarily disable certain lines for debugging purposes. The Python interpreter will skip over these comments and not execute them as code."
   ]
  },
  {
   "cell_type": "raw",
   "id": "8bff2c74-c420-4eeb-bdda-723cfeb283ca",
   "metadata": {},
   "source": []
  },
  {
   "cell_type": "markdown",
   "id": "5bd23aa9-33f2-4a31-aee2-804dc9265d62",
   "metadata": {},
   "source": [
    "Q8 \n",
    "Mention functions which can help us to find the version of python that we are currently working on."
   ]
  },
  {
   "cell_type": "markdown",
   "id": "1c18a749-bb2e-437a-a265-30b183a000b0",
   "metadata": {},
   "source": [
    "A8 \n",
    "In Python, you can use the following functions and modules to find the version of Python you are currently working with:\n",
    "\n",
    "1. sys module: The 'sys' module provides access to system-specific parameters and functions. You can use 'sys.version' to retrieve the version of Python.\n",
    "2. platform module: The 'platform' module provides an interface to various platform-specific functionalities. The 'platform.python_version()' function returns the version of Python as a string.\n",
    "3.  sysconfig module: The 'sysconfig' module provides access to Python's configuration information. You can use 'sysconfig.get_python_version()' to retrieve the version of Python as a string.\n"
   ]
  },
  {
   "cell_type": "code",
   "execution_count": 2,
   "id": "4116045c-43f0-4d7d-aa07-c8dcc11c89dd",
   "metadata": {},
   "outputs": [
    {
     "name": "stdout",
     "output_type": "stream",
     "text": [
      "3.10.8 | packaged by conda-forge | (main, Nov 22 2022, 08:26:04) [GCC 10.4.0]\n"
     ]
    }
   ],
   "source": [
    "import sys\n",
    "\n",
    "print(sys.version)\n"
   ]
  },
  {
   "cell_type": "code",
   "execution_count": 3,
   "id": "5595250e-3070-4814-952a-d783bda71836",
   "metadata": {},
   "outputs": [
    {
     "name": "stdout",
     "output_type": "stream",
     "text": [
      "3.10.8\n"
     ]
    }
   ],
   "source": [
    "import platform\n",
    "\n",
    "print(platform.python_version())\n"
   ]
  },
  {
   "cell_type": "code",
   "execution_count": 4,
   "id": "c027661e-3e15-4620-ac83-933a2833c420",
   "metadata": {},
   "outputs": [
    {
     "name": "stdout",
     "output_type": "stream",
     "text": [
      "3.10\n"
     ]
    }
   ],
   "source": [
    "import sysconfig\n",
    "\n",
    "print(sysconfig.get_python_version())\n"
   ]
  },
  {
   "cell_type": "markdown",
   "id": "782a775f-1827-4b82-ba36-c73b8efed33e",
   "metadata": {},
   "source": [
    "All of these methods will provide you with the version of Python you are currently using."
   ]
  },
  {
   "cell_type": "raw",
   "id": "3e5817e9-f01a-40db-89d4-f9084b7f7a22",
   "metadata": {},
   "source": []
  },
  {
   "cell_type": "markdown",
   "id": "fa1fd7b6-b28d-4c12-88e9-7304f924f500",
   "metadata": {},
   "source": [
    "Q9 Python supports the creation of anonymous functions at runtime, using a construct called _____."
   ]
  },
  {
   "cell_type": "markdown",
   "id": "c7a9d289-f305-4dbd-8c97-6f2f351c3f50",
   "metadata": {},
   "source": [
    "A9\n",
    "Python supports the creation of anonymous functions at runtime using a construct called \"lambda\" functions. Lambda functions are also known as anonymous functions because they don't require a specific name like regular functions.\n",
    "\n",
    "Lambda functions are defined using the keyword \"lambda\" followed by a parameter list, a colon (:), and an expression. They are typically used for simple, one-line functions without the need for a full function definition.\n",
    "\n",
    "Here's an example of a lambda function that squares a number:"
   ]
  },
  {
   "cell_type": "code",
   "execution_count": 5,
   "id": "6e0dbb07-7a51-4083-87cf-47d696c2d21d",
   "metadata": {},
   "outputs": [],
   "source": [
    "square = lambda x: x**2\n"
   ]
  },
  {
   "cell_type": "markdown",
   "id": "2b6e4120-9ab1-4355-85d6-091d95286eb5",
   "metadata": {},
   "source": [
    "In the above example, the lambda function takes a parameter 'x' and returns its square using the expression 'x**2'.\n",
    "\n",
    "Lambda functions can be useful in situations where you need to define a small, inline function without explicitly creating a named function. They are commonly used with higher-order functions like 'map()', 'filter()', and 'reduce()'."
   ]
  },
  {
   "cell_type": "raw",
   "id": "0a4ac90a-e894-495e-9d6d-1697799476a5",
   "metadata": {},
   "source": []
  },
  {
   "cell_type": "markdown",
   "id": "b7a36ebb-6a79-4748-a418-d7f3d9ba75db",
   "metadata": {},
   "source": [
    "Q10 What does pip stand for in python?"
   ]
  },
  {
   "cell_type": "markdown",
   "id": "ee6f2964-9832-41df-a93d-c5964ff2433f",
   "metadata": {},
   "source": [
    "A10\n",
    "In Python, \"pip\" stands for \"Pip Installs Packages\" or sometimes recursively referred to as \"Pip Installs Python.\" It is a package management system used for installing and managing software packages written in Python. Pip allows you to easily install, upgrade, and uninstall Python packages and their dependencies from the Python Package Index (PyPI) or other package repositories.\n",
    "\n",
    "Pip is a command-line tool that comes bundled with Python versions 3.4 and above, and it has become the standard package manager for Python. It simplifies the process of installing and managing external libraries and frameworks, making it convenient for developers to include and utilize various Python packages in their projects.\n",
    "\n",
    "Using pip, you can install packages by running commands like 'pip install package_name', upgrade packages with 'pip install --upgrade package_name', and uninstall packages with 'pip uninstall package_name'. Pip also supports the installation of packages from version control repositories, local directories, or directly from source distributions."
   ]
  },
  {
   "cell_type": "raw",
   "id": "0bd8b851-1633-4b7c-8538-5cd3ad6503a3",
   "metadata": {},
   "source": []
  },
  {
   "cell_type": "markdown",
   "id": "2a68df95-78dd-479b-a876-33815a61d8ac",
   "metadata": {},
   "source": [
    "Q11 \n",
    "Mention a few built in functions in python."
   ]
  },
  {
   "cell_type": "markdown",
   "id": "5e9110ac-d95e-4086-899f-a2cea3bfe294",
   "metadata": {},
   "source": [
    "A11\n",
    "Python provides several built-in functions that are readily available for use without requiring any imports or additional setup. Here are some commonly used built-in functions in Python:\n",
    "\n",
    "print(): Outputs the specified values or variables to the console.\n",
    "\n",
    "len(): Returns the length (the number of items) of an object such as a string, list, or tuple.\n",
    "\n",
    "type(): Returns the type of an object.\n",
    "\n",
    "int(), float(), str(): Converts a value to an integer, float, or string, respectively.\n",
    "\n",
    "input(): Reads a line of input from the user via the console.\n",
    "\n",
    "range(): Generates a sequence of numbers within a specified range.\n",
    "\n",
    "sum(): Returns the sum of all items in an iterable, such as a list or tuple.\n",
    "\n",
    "max(), min(): Returns the maximum or minimum value from an iterable or a series of arguments.\n",
    "\n",
    "abs(): Returns the absolute value of a number.\n",
    "\n",
    "sorted(): Returns a new sorted list from an iterable.\n",
    "\n",
    "round(): Rounds a number to a specified precision.\n",
    "\n",
    "open(): Opens a file and returns a file object.\n",
    "\n",
    "These are just a few examples of the built-in functions available in Python. The Python standard library offers a wide range of additional built-in functions that can be used for various purposes."
   ]
  },
  {
   "cell_type": "raw",
   "id": "e62371a6-a8a6-46cd-9437-131b35f3d72e",
   "metadata": {},
   "source": []
  },
  {
   "cell_type": "markdown",
   "id": "4b4352ac-15f6-4b4b-8bf2-d2fab7d5cc5d",
   "metadata": {},
   "source": [
    "Q12 \n",
    "What is the maximum possible length of an identifier in python?"
   ]
  },
  {
   "cell_type": "markdown",
   "id": "14a4fddf-75e3-495d-8a17-98b5f5a273b7",
   "metadata": {},
   "source": [
    "A12 In Python, the maximum possible length of an identifier is implementation-dependent. However, according to the Python Language Reference, the maximum length of an identifier is 255 characters. It is worth noting that using excessively long identifiers can make code harder to read and maintain, so it is generally recommended to keep identifiers concise and meaningful."
   ]
  },
  {
   "cell_type": "raw",
   "id": "30f9adce-af7f-4fd7-83d6-5068e7b57bfa",
   "metadata": {},
   "source": []
  },
  {
   "cell_type": "markdown",
   "id": "fa00977c-15a0-4231-8a53-f6d0af2c1463",
   "metadata": {},
   "source": [
    "Q13 \n",
    "What are the benifits of using python?"
   ]
  },
  {
   "cell_type": "markdown",
   "id": "71107077-3782-46df-a6f4-f8ff0042796c",
   "metadata": {},
   "source": [
    "A13\n",
    "Python offers numerous benefits that contribute to its popularity among developers. Here are some key advantages of using Python:\n",
    "\n",
    "Readability and Simplicity: Python emphasizes readability and uses a clean syntax, making it easy to understand and write. Its code structure is designed to be intuitive and expressive, enhancing developer productivity.\n",
    "\n",
    "Large and Active Community: Python has a vast and active community of developers, which means abundant resources, libraries, frameworks, and support are readily available. This community-driven ecosystem promotes collaboration and makes it easier to find solutions and get help when needed.\n",
    "\n",
    "Cross-platform Compatibility: Python is a cross-platform language, meaning it runs on various operating systems such as Windows, macOS, Linux, and more. This allows developers to write code once and deploy it on different platforms without major modifications.\n",
    "\n",
    "Extensive Libraries and Frameworks: Python boasts an extensive collection of libraries and frameworks for almost every need, enabling developers to leverage existing tools and resources to expedite development. Popular libraries include NumPy, Pandas, Django, Flask, TensorFlow, and many more.\n",
    "\n",
    "Integration Capabilities: Python seamlessly integrates with other languages like C, C++, and Java. This allows developers to combine Python's simplicity with the performance of lower-level languages for specific tasks or modules.\n",
    "\n",
    "Rapid Prototyping and Development: Python's concise syntax and vast library support facilitate rapid prototyping and development cycles. It enables developers to quickly test ideas, build proof of concepts, and iterate on projects efficiently.\n",
    "\n",
    "Data Science and Machine Learning: Python has become a go-to language for data science and machine learning tasks. Libraries like NumPy, Pandas, Matplotlib, and scikit-learn provide powerful tools for data manipulation, analysis, visualization, and machine learning model building.\n",
    "\n",
    "Scalability and Performance: Python offers various ways to optimize performance, such as using compiled extensions, just-in-time (JIT) compilers, and parallel processing. Additionally, Python's scalability is enhanced through frameworks like asyncio for asynchronous programming and distributed computing frameworks like PySpark.\n",
    "\n",
    "Support for Multiple Programming Paradigms: Python supports multiple programming paradigms, including procedural, object-oriented, and functional programming styles. This flexibility allows developers to choose the most suitable approach for their projects and adapt as needed.\n",
    "\n",
    "Education and Learning: Python's simplicity, readability, and vast educational resources make it an excellent language for beginners and those learning programming concepts. Python is widely used in educational settings to teach coding and computational thinking.\n",
    "\n",
    "These are just a few of the benefits of using Python. Its versatility, ease of use, and strong community support have made it a popular choice for a wide range of applications, from web development to scientific computing, data analysis, artificial intelligence, and beyond."
   ]
  },
  {
   "cell_type": "raw",
   "id": "2634626d-1bcc-42ec-83c8-5cd0c1729cf1",
   "metadata": {},
   "source": []
  },
  {
   "cell_type": "markdown",
   "id": "c236c525-2d32-4905-9df1-35249700a762",
   "metadata": {},
   "source": [
    "Q14 How is memory managed in python?"
   ]
  },
  {
   "cell_type": "markdown",
   "id": "eafc5d7b-71b9-448c-81af-8166ac9a4a64",
   "metadata": {},
   "source": [
    "A14 \n",
    "Memory management in Python is handled automatically through a combination of techniques, including garbage collection and reference counting. Here's an overview of how memory is managed in Python:\n",
    "\n",
    "Reference Counting: Python uses a reference counting mechanism to keep track of objects in memory. Each object has a reference count that keeps track of the number of references pointing to it. When an object's reference count reaches zero, meaning there are no more references to it, Python deallocates the memory occupied by the object.\n",
    "\n",
    "Garbage Collection: In addition to reference counting, Python also employs a garbage collector to detect and collect cyclic references. Cyclic references occur when a group of objects reference each other, forming a loop that prevents them from being garbage collected based solely on reference counting. The garbage collector periodically identifies and releases such cyclic references, freeing up memory.\n",
    "\n",
    "Memory Allocation: Python has its own memory manager, responsible for managing the allocation and deallocation of memory blocks used by Python objects. The memory manager handles memory allocation requests, tracks free memory blocks, and returns memory back to the system when objects are deallocated.\n",
    "\n",
    "Memory Optimizations: Python provides various memory optimization techniques, such as object reuse and memory pooling. Reusing objects, especially immutable ones like strings, reduces the overhead of creating new objects. Memory pooling involves preallocating and reusing memory blocks for frequently used objects, improving performance and reducing memory fragmentation.\n",
    "\n",
    "Large Object Heap (LOH): Python maintains a separate heap, known as the Large Object Heap (LOH), for larger objects. This helps optimize memory usage and reduces fragmentation by segregating larger objects from smaller ones.\n",
    "\n",
    "C Extensions and Memory Management: Python supports C extensions, and memory allocated by C extensions is managed separately. Python provides an API for C extension developers to handle memory management and ensure proper integration with Python's memory management system.\n",
    "\n",
    "Python's memory management is designed to provide automatic memory management without requiring explicit memory allocation and deallocation by the programmer. It helps developers focus on writing code without worrying about low-level memory operations, improving productivity and reducing the risk of memory leaks and memory-related errors."
   ]
  },
  {
   "cell_type": "raw",
   "id": "01b5782f-e106-4f56-8190-7500a7dfea08",
   "metadata": {},
   "source": []
  },
  {
   "cell_type": "markdown",
   "id": "96378dee-b4fa-4b5a-8a81-aad4adde1252",
   "metadata": {},
   "source": [
    "Q15\n",
    "How to install python on a windows and set path variable?"
   ]
  },
  {
   "cell_type": "markdown",
   "id": "ea54bdcd-80e7-4ca7-8ffa-e4b009ed0c53",
   "metadata": {},
   "source": [
    "A15\n",
    "To install Python on Windows and set the PATH variable, you can follow these steps:\n",
    "\n",
    "1. Download Python: Go to the official Python website at https://www.python.org/downloads/ and download the latest version of Python for Windows. Choose the appropriate installer based on your system architecture (32-bit or 64-bit).\n",
    "\n",
    "2. Run the Installer: Locate the downloaded Python installer file and double-click on it to run the installer. Check the box that says \"Add Python to PATH\" during the installation setup.\n",
    "\n",
    "3. Customize Installation (Optional): On the \"Customize installation\" screen, you can choose additional features or modify the installation directory. It is recommended to keep the default settings unless you have specific requirements.\n",
    "\n",
    "4. Install Python: Click on the \"Install Now\" button to start the installation process. The installer will copy the necessary files and install Python on your system.\n",
    "\n",
    "5. Add Python to PATH (if not done during installation): If you missed selecting the \"Add Python to PATH\" option during installation, you can manually add it afterwards. Open the Start menu and search for \"Edit the system environment variables\" and open it.\n",
    "\n",
    "6. Environment Variables: In the \"System Properties\" window, click on the \"Environment Variables\" button.\n",
    "\n",
    "7. Edit PATH Variable: In the \"Environment Variables\" window, find the \"Path\" variable under the \"System variables\" section and select it. Click on the \"Edit\" button.\n",
    "\n",
    "8. Add Python Path: In the \"Edit Environment Variable\" window, click on the \"New\" button and enter the path to your Python installation directory. By default, it is something like `C:\\PythonXX` (where \"XX\" represents the version number).\n",
    "\n",
    "9. Apply Changes: Click \"OK\" on each window to apply the changes and close the windows.\n",
    "\n",
    "10. Verify Installation: Open a new command prompt and type `python --version`. It should display the version of Python installed on your system.\n",
    "\n",
    "Now you have successfully installed Python on Windows and set the PATH variable, allowing you to run Python commands and scripts from any location in the command prompt or PowerShell."
   ]
  },
  {
   "cell_type": "raw",
   "id": "701b261b-fb95-4a96-a188-b263ab9669a3",
   "metadata": {},
   "source": []
  },
  {
   "cell_type": "markdown",
   "id": "4a4d49bc-e62c-4cc9-98e6-f6dc9508f562",
   "metadata": {},
   "source": [
    "Q16 Is indentation required in python?"
   ]
  },
  {
   "cell_type": "markdown",
   "id": "d6091da6-92bf-484a-b03e-39c91515518c",
   "metadata": {},
   "source": [
    "A16\n",
    "Yes, indentation is required in Python and plays a crucial role in defining the structure and scope of the code. In Python, indentation is used to indicate blocks of code, such as function definitions, loop bodies, conditional statements, and more.\n",
    "\n",
    "Unlike many other programming languages that use braces or explicit keywords to denote code blocks, Python uses indentation to define the grouping of statements. Consistent and correct indentation is necessary for the code to be syntactically valid and for the interpreter to understand the code's structure correctly.\n",
    "\n",
    "The standard convention in Python is to use four spaces for indentation. However, you can also use a tab character, as long as you remain consistent throughout your codebase.\n",
    "\n",
    "Here's an example that demonstrates the use of indentation in a function definition and an if statement:"
   ]
  },
  {
   "cell_type": "code",
   "execution_count": 7,
   "id": "50f8d0c8-dafa-4572-bb97-940a804c62ad",
   "metadata": {},
   "outputs": [
    {
     "name": "stdout",
     "output_type": "stream",
     "text": [
      "Hello, stranger!\n"
     ]
    }
   ],
   "source": [
    "def Anand(name):\n",
    "    # Indented block for function body\n",
    "    if name == 'sunil':\n",
    "        # Indented block for if statement\n",
    "        print('Hello, sunil!')\n",
    "    else:\n",
    "        # Indented block for else statement\n",
    "        print('Hello, stranger!')\n",
    "\n",
    "# Calling the function outside the function block\n",
    "greet('atharv')\n"
   ]
  },
  {
   "cell_type": "markdown",
   "id": "300b2283-5182-4d6b-b027-c1c3d0429c74",
   "metadata": {},
   "source": [
    "In the above example, the indentation level indicates which lines of code belong to the function definition, the if statement, and the else statement.\n",
    "\n",
    "Failure to use correct indentation or mixing spaces and tabs inconsistently can result in indentation errors and lead to syntax errors in Python code."
   ]
  },
  {
   "cell_type": "code",
   "execution_count": null,
   "id": "fcd70161-f863-4158-b926-b5aa27b84741",
   "metadata": {},
   "outputs": [],
   "source": []
  }
 ],
 "metadata": {
  "kernelspec": {
   "display_name": "Python 3 (ipykernel)",
   "language": "python",
   "name": "python3"
  },
  "language_info": {
   "codemirror_mode": {
    "name": "ipython",
    "version": 3
   },
   "file_extension": ".py",
   "mimetype": "text/x-python",
   "name": "python",
   "nbconvert_exporter": "python",
   "pygments_lexer": "ipython3",
   "version": "3.10.8"
  }
 },
 "nbformat": 4,
 "nbformat_minor": 5
}
